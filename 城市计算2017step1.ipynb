{
 "cells": [
  {
   "cell_type": "code",
   "execution_count": 1,
   "metadata": {},
   "outputs": [],
   "source": [
    "import geopandas as gpd\n",
    "import os\n",
    "\n",
    "def get_filelist(dir):\n",
    "    for home, dirs, files in os.walk(dir):\n",
    "        files_list=[]\n",
    "        for filename in files:\n",
    "#             print(filename)\n",
    "            if filename.split('.')[-1]=='shp':\n",
    "                files_list.append(filename)\n",
    "    return files_list"
   ]
  },
  {
   "cell_type": "code",
   "execution_count": 2,
   "metadata": {},
   "outputs": [],
   "source": [
    "from phone import Phone\n",
    "def getlocation(num):\n",
    "    try:\n",
    "        num=num.strip()\n",
    "        if ';' in num:\n",
    "            nums=num.split(';')\n",
    "            for i in nums:\n",
    "                if len(str(i))==11:\n",
    "                    try:\n",
    "                        info=Phone().find(i)\n",
    "                        city = info['city']\n",
    "                        return city \n",
    "                    except Exception as e:\n",
    "    #                     print(e)\n",
    "                        return \"\"\n",
    "        else:\n",
    "             if len(str(num))==11:\n",
    "                    try:\n",
    "                        info=Phone().find(num)\n",
    "                        city = info['city']\n",
    "                        return city \n",
    "                    except Exception as e:\n",
    "    #                     print(e)\n",
    "                        return \"\"\n",
    "    except:\n",
    "        return \"\""
   ]
  },
  {
   "cell_type": "code",
   "execution_count": 3,
   "metadata": {},
   "outputs": [],
   "source": [
    "import os\n",
    "diric='F:\\\\2017\\\\2017'\n",
    "data=gpd.read_file(os.path.join(diric,'餐饮服务.shp'))"
   ]
  },
  {
   "cell_type": "code",
   "execution_count": 4,
   "metadata": {},
   "outputs": [
    {
     "data": {
      "text/plain": [
       "345"
      ]
     },
     "execution_count": 4,
     "metadata": {},
     "output_type": "execute_result"
    }
   ],
   "source": [
    "all_cities=list(set(data['CITY'].values.tolist()))\n",
    "len(all_cities)"
   ]
  },
  {
   "cell_type": "code",
   "execution_count": 7,
   "metadata": {},
   "outputs": [],
   "source": [
    "data=0"
   ]
  },
  {
   "cell_type": "code",
   "execution_count": 5,
   "metadata": {},
   "outputs": [],
   "source": [
    "def get_num(area,all_cities):\n",
    "    if area!=None and area!=\"\":#  len(area)>1\n",
    "         for i in all_cities:\n",
    "            if area in i:\n",
    "                return i\n",
    "    else:\n",
    "        return \"\"\n",
    "    #所有的都返回空"
   ]
  },
  {
   "cell_type": "code",
   "execution_count": 8,
   "metadata": {},
   "outputs": [
    {
     "data": {
      "text/plain": [
       "'漯河市'"
      ]
     },
     "execution_count": 8,
     "metadata": {},
     "output_type": "execute_result"
    }
   ],
   "source": [
    "get_num('漯河',all_cities)"
   ]
  },
  {
   "cell_type": "code",
   "execution_count": 19,
   "metadata": {},
   "outputs": [
    {
     "data": {
      "text/plain": [
       "''"
      ]
     },
     "execution_count": 19,
     "metadata": {},
     "output_type": "execute_result"
    }
   ],
   "source": [
    "get_num('',all_cities)"
   ]
  },
  {
   "cell_type": "code",
   "execution_count": 20,
   "metadata": {},
   "outputs": [
    {
     "data": {
      "text/plain": [
       "''"
      ]
     },
     "execution_count": 20,
     "metadata": {},
     "output_type": "execute_result"
    }
   ],
   "source": [
    "get_num(None,all_cities)"
   ]
  },
  {
   "cell_type": "code",
   "execution_count": 27,
   "metadata": {},
   "outputs": [
    {
     "data": {
      "text/plain": [
       "''"
      ]
     },
     "execution_count": 27,
     "metadata": {},
     "output_type": "execute_result"
    }
   ],
   "source": [
    "get_num(getlocation(None),all_cities)"
   ]
  },
  {
   "cell_type": "code",
   "execution_count": 30,
   "metadata": {},
   "outputs": [
    {
     "data": {
      "text/plain": [
       "'交通设施服务.shp'"
      ]
     },
     "execution_count": 30,
     "metadata": {},
     "output_type": "execute_result"
    }
   ],
   "source": [
    "get_filelist(diric)[0]"
   ]
  },
  {
   "cell_type": "code",
   "execution_count": 23,
   "metadata": {},
   "outputs": [
    {
     "name": "stdout",
     "output_type": "stream",
     "text": [
      "事件活动\n",
      "交通设施服务\n",
      "住宿服务\n",
      "体育休闲服务\n",
      "公共设施\n",
      "公司企业\n",
      "医疗保健服务\n",
      "商务住宅\n",
      "地名地址信息\n",
      "室内设施\n",
      "摩托车服务\n",
      "政府机构及社会团体\n",
      "汽车服务\n",
      "汽车维修\n",
      "汽车销售\n",
      "生活服务\n",
      "科教文化服务\n",
      "购物服务\n",
      "通行设施\n",
      "道路附属设施\n",
      "金融保险服务\n",
      "风景名胜\n"
     ]
    }
   ],
   "source": [
    "import os\n",
    "diric='F:\\\\2017\\\\2017'\n",
    "csvdir='F:\\\\2017\\\\2017Csv'\n",
    "\n",
    "for file in get_filelist(diric)[:-1]:##.remove('餐饮服务.shp')\n",
    "    name=file.replace('.shp','')\n",
    "    print(name)\n",
    "    \n",
    "    data=gpd.read_file(os.path.join(diric,file))\n",
    "    data.rename(columns={'CITY':'TARGET'},inplace=True) \n",
    "    data=data.drop('geometry', axis=1)\n",
    "    \n",
    "    data['SOURCE'] = data.apply(lambda x: get_num(getlocation(x['TELEPHONE']),all_cities), axis=1)\n",
    "    \n",
    "    data[data['SOURCE']!=''].to_csv(os.path.join(csvdir,name+'fk.csv'),index=None,encoding='utf_8_sig')\n",
    "    \n",
    "    data.to_csv(os.path.join(csvdir,name+'.csv'),index=None,encoding='utf_8_sig')"
   ]
  },
  {
   "cell_type": "code",
   "execution_count": 16,
   "metadata": {},
   "outputs": [],
   "source": [
    "#进行删除操作\n",
    "def get_con(a,b):\n",
    "    if a==b:\n",
    "        return 0\n",
    "    else:\n",
    "        return 1\n",
    "\n",
    "data['Cond'] = data.apply(lambda x: get_con(x['TARGET'],x['SOURCE']), axis=1)"
   ]
  },
  {
   "cell_type": "code",
   "execution_count": 18,
   "metadata": {},
   "outputs": [],
   "source": [
    "data[data['Cond']==1].to_csv(os.path.join('HAHA.csv'),index=None,encoding='utf_8_sig')"
   ]
  },
  {
   "cell_type": "markdown",
   "metadata": {},
   "source": [
    "##"
   ]
  },
  {
   "cell_type": "code",
   "execution_count": null,
   "metadata": {},
   "outputs": [],
   "source": []
  },
  {
   "cell_type": "markdown",
   "metadata": {},
   "source": [
    "#其余年份"
   ]
  },
  {
   "cell_type": "code",
   "execution_count": 27,
   "metadata": {},
   "outputs": [
    {
     "data": {
      "text/plain": [
       "345"
      ]
     },
     "execution_count": 27,
     "metadata": {},
     "output_type": "execute_result"
    }
   ],
   "source": [
    "import os\n",
    "diric='F:\\\\2016\\\\2016\\\\2016'\n",
    "data=gpd.read_file(os.path.join(diric,'餐饮服务.shp'))\n",
    "all_cities=list(set(data['CITY'].values.tolist()))\n",
    "data=0\n",
    "len(all_cities)"
   ]
  },
  {
   "cell_type": "code",
   "execution_count": 33,
   "metadata": {},
   "outputs": [],
   "source": [
    "import pandas as pd\n",
    "pd.DataFrame(all_cities).to_csv('2017city.csv')"
   ]
  },
  {
   "cell_type": "code",
   "execution_count": 28,
   "metadata": {},
   "outputs": [
    {
     "name": "stdout",
     "output_type": "stream",
     "text": [
      "事件活动\n",
      "交通设施服务\n",
      "住宿服务\n",
      "体育休闲服务\n",
      "公共设施\n",
      "公司企业\n",
      "医疗保健服务\n",
      "商务住宅\n",
      "地名地址信息\n",
      "室内设施\n",
      "摩托车服务\n",
      "政府机构及社会团体\n",
      "汽车服务\n",
      "汽车维修\n",
      "汽车销售\n",
      "生活服务\n",
      "科教文化服务\n",
      "购物服务\n",
      "通行设施\n",
      "道路附属设施\n",
      "金融保险服务\n",
      "风景名胜\n"
     ]
    }
   ],
   "source": [
    "import os\n",
    "diric='F:\\\\2016\\\\2016\\\\2016'\n",
    "csvdir='F:\\\\2016\\\\2016Csv'\n",
    "\n",
    "for file in get_filelist(diric)[:-1]:##.remove('餐饮服务.shp')\n",
    "    name=file.replace('.shp','')\n",
    "    print(name)\n",
    "    \n",
    "    data=gpd.read_file(os.path.join(diric,file))\n",
    "    data.rename(columns={'CITY':'TARGET'},inplace=True) \n",
    "    data=data.drop('geometry', axis=1)\n",
    "    \n",
    "    data['SOURCE'] = data.apply(lambda x: get_num(getlocation(x['TELEPHONE']),all_cities), axis=1)\n",
    "    \n",
    "    data[data['SOURCE']!=''].to_csv(os.path.join(csvdir,name+'fk.csv'),index=None,encoding='utf_8_sig')\n",
    "    \n",
    "    data.to_csv(os.path.join(csvdir,name+'.csv'),index=None,encoding='utf_8_sig')"
   ]
  },
  {
   "cell_type": "code",
   "execution_count": null,
   "metadata": {},
   "outputs": [],
   "source": []
  },
  {
   "cell_type": "code",
   "execution_count": 51,
   "metadata": {},
   "outputs": [
    {
     "name": "stdout",
     "output_type": "stream",
     "text": [
      "餐饮服务\n"
     ]
    }
   ],
   "source": [
    "#这次俩测试\n",
    "import os\n",
    "diric='F:\\\\2014\\\\2014'\n",
    "csvdir='F:\\\\2014\\\\ShpCsv'\n",
    "\n",
    "for file in ['餐饮服务.shp']:\n",
    "    name=file.replace('.shp','')\n",
    "    print(name)\n",
    "    \n",
    "    data=gpd.read_file(os.path.join(diric,file))\n",
    "    data.rename(columns={'CITY':'TARGET'},inplace=True) \n",
    "    data=data.drop('geometry', axis=1)\n",
    "    \n",
    "    data=data.fillna(\"\")\n",
    "    \n",
    "    data['SOURCE'] = data.apply(lambda x: get_num(getlocation(x['TELEPHONE']),all_cities), axis=1)\n",
    "    \n",
    "    data[data['SOURCE']!=''].to_csv(os.path.join(csvdir,name+'fk.csv'),index=None,encoding='utf_8_sig')\n",
    "    \n",
    "    data.to_csv(os.path.join(csvdir,name+'.csv'),index=None,encoding='utf_8_sig')"
   ]
  },
  {
   "cell_type": "code",
   "execution_count": 56,
   "metadata": {},
   "outputs": [
    {
     "data": {
      "text/plain": [
       "(389625, 14)"
      ]
     },
     "execution_count": 56,
     "metadata": {},
     "output_type": "execute_result"
    }
   ],
   "source": [
    "rf=tf[tf['TELEPHONE']!=\"\"]\n",
    "tf[tf['TELEPHONE']!=\"\"].shape"
   ]
  },
  {
   "cell_type": "code",
   "execution_count": 67,
   "metadata": {},
   "outputs": [
    {
     "data": {
      "text/plain": [
       "'漯河'"
      ]
     },
     "execution_count": 67,
     "metadata": {},
     "output_type": "execute_result"
    }
   ],
   "source": [
    "getlocation('15518288378\t')"
   ]
  },
  {
   "cell_type": "code",
   "execution_count": 68,
   "metadata": {},
   "outputs": [
    {
     "name": "stderr",
     "output_type": "stream",
     "text": [
      "D:\\ProgramData\\Anaconda3.5\\lib\\site-packages\\ipykernel_launcher.py:1: SettingWithCopyWarning: \n",
      "A value is trying to be set on a copy of a slice from a DataFrame.\n",
      "Try using .loc[row_indexer,col_indexer] = value instead\n",
      "\n",
      "See the caveats in the documentation: https://pandas.pydata.org/pandas-docs/stable/user_guide/indexing.html#returning-a-view-versus-a-copy\n",
      "  \"\"\"Entry point for launching an IPython kernel.\n"
     ]
    },
    {
     "data": {
      "text/html": [
       "<div>\n",
       "<style scoped>\n",
       "    .dataframe tbody tr th:only-of-type {\n",
       "        vertical-align: middle;\n",
       "    }\n",
       "\n",
       "    .dataframe tbody tr th {\n",
       "        vertical-align: top;\n",
       "    }\n",
       "\n",
       "    .dataframe thead th {\n",
       "        text-align: right;\n",
       "    }\n",
       "</style>\n",
       "<table border=\"1\" class=\"dataframe\">\n",
       "  <thead>\n",
       "    <tr style=\"text-align: right;\">\n",
       "      <th></th>\n",
       "      <th>NAME</th>\n",
       "      <th>ADDRESS</th>\n",
       "      <th>TELEPHONE</th>\n",
       "      <th>PROVINCE</th>\n",
       "      <th>TARGET</th>\n",
       "      <th>COUNTY</th>\n",
       "      <th>CODE</th>\n",
       "      <th>LON</th>\n",
       "      <th>LAT</th>\n",
       "      <th>TYPECODE</th>\n",
       "      <th>BASETYPE</th>\n",
       "      <th>SUBTYPE</th>\n",
       "      <th>CATEGORY</th>\n",
       "      <th>SOURCE</th>\n",
       "    </tr>\n",
       "  </thead>\n",
       "  <tbody>\n",
       "    <tr>\n",
       "      <th>0</th>\n",
       "      <td>凤凰酒楼</td>\n",
       "      <td></td>\n",
       "      <td>0313-5720503</td>\n",
       "      <td>河北省</td>\n",
       "      <td>张家口市</td>\n",
       "      <td>沽源县</td>\n",
       "      <td>130724</td>\n",
       "      <td>115.482296</td>\n",
       "      <td>41.444084</td>\n",
       "      <td>50100</td>\n",
       "      <td>餐饮服务</td>\n",
       "      <td>中餐厅</td>\n",
       "      <td>中餐厅</td>\n",
       "      <td></td>\n",
       "    </tr>\n",
       "    <tr>\n",
       "      <th>7</th>\n",
       "      <td>鲁茜肥牛城（沽源店）</td>\n",
       "      <td></td>\n",
       "      <td>0313-5816060</td>\n",
       "      <td>河北省</td>\n",
       "      <td>张家口市</td>\n",
       "      <td>沽源县</td>\n",
       "      <td>130724</td>\n",
       "      <td>115.680788</td>\n",
       "      <td>41.673139</td>\n",
       "      <td>50117</td>\n",
       "      <td>餐饮服务</td>\n",
       "      <td>中餐厅</td>\n",
       "      <td>火锅店</td>\n",
       "      <td></td>\n",
       "    </tr>\n",
       "    <tr>\n",
       "      <th>43</th>\n",
       "      <td>聚祥楼湘乡食府</td>\n",
       "      <td>新城街</td>\n",
       "      <td>0313-5817818</td>\n",
       "      <td>河北省</td>\n",
       "      <td>张家口市</td>\n",
       "      <td>沽源县</td>\n",
       "      <td>130724</td>\n",
       "      <td>115.680600</td>\n",
       "      <td>41.668151</td>\n",
       "      <td>50108</td>\n",
       "      <td>餐饮服务</td>\n",
       "      <td>中餐厅</td>\n",
       "      <td>湖南菜(湘菜)</td>\n",
       "      <td></td>\n",
       "    </tr>\n",
       "    <tr>\n",
       "      <th>85</th>\n",
       "      <td>水城肥牛</td>\n",
       "      <td></td>\n",
       "      <td>0313-8598819</td>\n",
       "      <td>河北省</td>\n",
       "      <td>张家口市</td>\n",
       "      <td>沽源县</td>\n",
       "      <td>130724</td>\n",
       "      <td>115.704624</td>\n",
       "      <td>41.667504</td>\n",
       "      <td>50117</td>\n",
       "      <td>餐饮服务</td>\n",
       "      <td>中餐厅</td>\n",
       "      <td>火锅店</td>\n",
       "      <td></td>\n",
       "    </tr>\n",
       "    <tr>\n",
       "      <th>100</th>\n",
       "      <td>李树羊蝎子城</td>\n",
       "      <td></td>\n",
       "      <td>0313-5810337|8510337</td>\n",
       "      <td>河北省</td>\n",
       "      <td>张家口市</td>\n",
       "      <td>沽源县</td>\n",
       "      <td>130724</td>\n",
       "      <td>115.689832</td>\n",
       "      <td>41.665737</td>\n",
       "      <td>50100</td>\n",
       "      <td>餐饮服务</td>\n",
       "      <td>中餐厅</td>\n",
       "      <td>中餐厅</td>\n",
       "      <td></td>\n",
       "    </tr>\n",
       "  </tbody>\n",
       "</table>\n",
       "</div>"
      ],
      "text/plain": [
       "           NAME ADDRESS             TELEPHONE PROVINCE TARGET COUNTY    CODE  \\\n",
       "0          凤凰酒楼                  0313-5720503      河北省   张家口市    沽源县  130724   \n",
       "7    鲁茜肥牛城（沽源店）                  0313-5816060      河北省   张家口市    沽源县  130724   \n",
       "43      聚祥楼湘乡食府     新城街          0313-5817818      河北省   张家口市    沽源县  130724   \n",
       "85         水城肥牛                  0313-8598819      河北省   张家口市    沽源县  130724   \n",
       "100      李树羊蝎子城          0313-5810337|8510337      河北省   张家口市    沽源县  130724   \n",
       "\n",
       "            LON        LAT  TYPECODE BASETYPE SUBTYPE CATEGORY SOURCE  \n",
       "0    115.482296  41.444084     50100     餐饮服务     中餐厅      中餐厅         \n",
       "7    115.680788  41.673139     50117     餐饮服务     中餐厅      火锅店         \n",
       "43   115.680600  41.668151     50108     餐饮服务     中餐厅  湖南菜(湘菜)         \n",
       "85   115.704624  41.667504     50117     餐饮服务     中餐厅      火锅店         \n",
       "100  115.689832  41.665737     50100     餐饮服务     中餐厅      中餐厅         "
      ]
     },
     "execution_count": 68,
     "metadata": {},
     "output_type": "execute_result"
    }
   ],
   "source": [
    "rf['SOURCE'] = rf.apply(lambda x: get_num(getlocation(x['TELEPHONE']),all_cities), axis=1)\n",
    "rf.head()"
   ]
  },
  {
   "cell_type": "code",
   "execution_count": 69,
   "metadata": {},
   "outputs": [
    {
     "data": {
      "text/html": [
       "<div>\n",
       "<style scoped>\n",
       "    .dataframe tbody tr th:only-of-type {\n",
       "        vertical-align: middle;\n",
       "    }\n",
       "\n",
       "    .dataframe tbody tr th {\n",
       "        vertical-align: top;\n",
       "    }\n",
       "\n",
       "    .dataframe thead th {\n",
       "        text-align: right;\n",
       "    }\n",
       "</style>\n",
       "<table border=\"1\" class=\"dataframe\">\n",
       "  <thead>\n",
       "    <tr style=\"text-align: right;\">\n",
       "      <th></th>\n",
       "      <th>NAME</th>\n",
       "      <th>ADDRESS</th>\n",
       "      <th>TELEPHONE</th>\n",
       "      <th>PROVINCE</th>\n",
       "      <th>TARGET</th>\n",
       "      <th>COUNTY</th>\n",
       "      <th>CODE</th>\n",
       "      <th>LON</th>\n",
       "      <th>LAT</th>\n",
       "      <th>TYPECODE</th>\n",
       "      <th>BASETYPE</th>\n",
       "      <th>SUBTYPE</th>\n",
       "      <th>CATEGORY</th>\n",
       "      <th>SOURCE</th>\n",
       "    </tr>\n",
       "  </thead>\n",
       "  <tbody>\n",
       "  </tbody>\n",
       "</table>\n",
       "</div>"
      ],
      "text/plain": [
       "Empty DataFrame\n",
       "Columns: [NAME, ADDRESS, TELEPHONE, PROVINCE, TARGET, COUNTY, CODE, LON, LAT, TYPECODE, BASETYPE, SUBTYPE, CATEGORY, SOURCE]\n",
       "Index: []"
      ]
     },
     "execution_count": 69,
     "metadata": {},
     "output_type": "execute_result"
    }
   ],
   "source": [
    "rf[rf['SOURCE']!=\"\"]"
   ]
  }
 ],
 "metadata": {
  "kernelspec": {
   "display_name": "Python 3",
   "language": "python",
   "name": "python3"
  },
  "language_info": {
   "codemirror_mode": {
    "name": "ipython",
    "version": 3
   },
   "file_extension": ".py",
   "mimetype": "text/x-python",
   "name": "python",
   "nbconvert_exporter": "python",
   "pygments_lexer": "ipython3",
   "version": "3.6.4"
  }
 },
 "nbformat": 4,
 "nbformat_minor": 4
}
